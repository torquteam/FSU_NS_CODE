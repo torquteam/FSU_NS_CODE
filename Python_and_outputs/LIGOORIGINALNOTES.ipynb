{
 "cells": [
  {
   "cell_type": "code",
   "execution_count": 1,
   "metadata": {},
   "outputs": [],
   "source": [
    "# libraries for reading dat and visualization\n",
    "import numpy as np\n",
    " \n",
    "import matplotlib\n",
    "import matplotlib.pyplot as plt\n",
    " \n",
    "import pandas as pd\n",
    "import seaborn as sns\n",
    "  \n",
    "import requests\n",
    "import h5py\n",
    "\n",
    "# url of public samples from the GWTC-1 release\n",
    "# https://dcc.ligo.org/cgi-bin/DocDB/ShowDocument?.submit=Identifier&docid=P1800370&version= \n",
    "samples_url=\"https://dcc.ligo.org/public/0157/P1800370/004/GW170817_GWTC-1.hdf5\"\n",
    "BNS_file = './GW170817_GWTC-1.hdf5'\n",
    "try: \n",
    "  # read in file \n",
    "  BNS = h5py.File(BNS_file, 'r')\n",
    "except:\n",
    "  # download samples and write to file\n",
    "  r = requests.get(samples_url, allow_redirects=True)\n",
    "  open(BNS_file, 'wb').write(r.content)\n",
    "  # read in file\n",
    "  BNS = h5py.File(BNS_file, 'r')"
   ]
  },
  {
   "cell_type": "code",
   "execution_count": 2,
   "metadata": {},
   "outputs": [
    {
     "data": {
      "text/plain": [
       "<KeysViewHDF5 ['IMRPhenomPv2NRT_highSpin_posterior', 'IMRPhenomPv2NRT_highSpin_prior', 'IMRPhenomPv2NRT_lowSpin_posterior', 'IMRPhenomPv2NRT_lowSpin_prior']>"
      ]
     },
     "execution_count": 2,
     "metadata": {},
     "output_type": "execute_result"
    }
   ],
   "source": [
    "BNS.keys() #list the posterior sample sets that are available\n",
    "# IMRPhenomPv2 is the base binary black hole waveform model. \n",
    "# It accomodates unaligned, precessing spins.\n",
    "# NRT includes post-newtonian tides plus higher-order contributions calibrated \n",
    "# to numerical simulation.\n",
    "\n",
    "# highSpin is effectively unrestricted spin\n",
    "# lowSpin restricts the magnitudes of the spin to below 0.05 (dimensionless form)\n",
    "# motivated by observations of double neutron star systems in the galaxy\n",
    "\n",
    "# other waveform models are available in other releases if you are \n",
    "# interested in quantifying systematics e.g. Breschi et al have a TEOBResumS \n",
    "# release "
   ]
  },
  {
   "cell_type": "code",
   "execution_count": 3,
   "metadata": {},
   "outputs": [
    {
     "name": "stdout",
     "output_type": "stream",
     "text": [
      "Index(['costheta_jn', 'luminosity_distance_Mpc', 'right_ascension',\n",
      "       'declination', 'm1_detector_frame_Msun', 'm2_detector_frame_Msun',\n",
      "       'lambda1', 'lambda2', 'spin1', 'spin2', 'costilt1', 'costilt2'],\n",
      "      dtype='object')\n",
      "Index(['costheta_jn', 'luminosity_distance_Mpc', 'right_ascension',\n",
      "       'declination', 'm1_detector_frame_Msun', 'm2_detector_frame_Msun',\n",
      "       'lambda1', 'lambda2', 'spin1', 'spin2', 'costilt1', 'costilt2'],\n",
      "      dtype='object')\n",
      "Index(['costheta_jn', 'luminosity_distance_Mpc', 'right_ascension',\n",
      "       'declination', 'm1_detector_frame_Msun', 'm2_detector_frame_Msun',\n",
      "       'lambda1', 'lambda2', 'spin1', 'spin2', 'costilt1', 'costilt2'],\n",
      "      dtype='object')\n"
     ]
    }
   ],
   "source": [
    "# using the pandas infrastructure to read in samples and keep track of variable names\n",
    "highSpinPos = pd.DataFrame.from_records(np.array(BNS['/IMRPhenomPv2NRT_highSpin_posterior']))\n",
    "highSpinPri = pd.DataFrame.from_records(np.array(BNS['/IMRPhenomPv2NRT_highSpin_prior']))\n",
    "lowSpinPos = pd.DataFrame.from_records(np.array(BNS['/IMRPhenomPv2NRT_lowSpin_posterior']))\n",
    "lowSpinPri = pd.DataFrame.from_records(np.array(BNS['/IMRPhenomPv2NRT_lowSpin_prior']))\n",
    "# list the samples variables\n",
    "print(highSpinPri.keys())\n",
    "print(highSpinPos.keys())\n",
    "\n",
    "print(lowSpinPos.keys())"
   ]
  },
  {
   "cell_type": "code",
   "execution_count": 4,
   "metadata": {},
   "outputs": [],
   "source": [
    "#Convert to source frame:\n",
    "# in later signals, this is also included in the released parameters\n",
    "# could do something with EM counterpart, but here just use standard cosmology and luminosity distance\n",
    "from astropy.cosmology import WMAP9 as cosmo\n",
    "import astropy.units as u\n",
    "from astropy.cosmology import z_at_value\n",
    "\n",
    "redshifts = np.linspace( # from minimum to maximum luminosity distance, plus a buffer for interpolation\n",
    "                0.9*z_at_value(cosmo.luminosity_distance, highSpinPos['luminosity_distance_Mpc'].min() * u.Mpc),\n",
    "                1.1*z_at_value(cosmo.luminosity_distance, highSpinPos['luminosity_distance_Mpc'].max() * u.Mpc),\n",
    "                100)\n",
    "\n",
    "from scipy.interpolate import interp1d\n",
    "zfunc=interp1d(cosmo.luminosity_distance(redshifts).value, redshifts)\n",
    "\n",
    "highSpinPos['z']  = highSpinPos.apply(lambda row : zfunc(row['luminosity_distance_Mpc']), axis = 1)\n",
    "lowSpinPos['z']  = lowSpinPos.apply(lambda row : zfunc(row['luminosity_distance_Mpc']), axis = 1)\n",
    "\n",
    "highSpinPos['m1_source_frame_Msun']  = highSpinPos.apply(lambda row : row['m1_detector_frame_Msun']/(1+row['z']), axis = 1)\n",
    "lowSpinPos['m1_source_frame_Msun']  = lowSpinPos.apply(lambda row :row['m1_detector_frame_Msun']/(1+row['z']), axis = 1)\n",
    "\n",
    "highSpinPos['m2_source_frame_Msun']  = highSpinPos.apply(lambda row : row['m2_detector_frame_Msun']/(1+row['z']), axis = 1)\n",
    "lowSpinPos['m2_source_frame_Msun']  = lowSpinPos.apply(lambda row :row['m2_detector_frame_Msun']/(1+row['z']), axis = 1)"
   ]
  },
  {
   "cell_type": "code",
   "execution_count": 5,
   "metadata": {},
   "outputs": [],
   "source": [
    "#from pycbc.conversions \n",
    "# code copied instead of imported here for conveninence\n",
    "# define some useful leading-order combinations\n",
    "def chi_eff(mass1, mass2, spin1z, spin2z):\n",
    "    \"\"\"Returns the effective spin from mass1, mass2, spin1z, and spin2z.\"\"\"\n",
    "    return (spin1z * mass1 + spin2z * mass2) / (mass1 + mass2)\n",
    "def mchirp_from_mass1_mass2(mass1, mass2):\n",
    "    \"\"\"Returns the chirp mass from mass1 and mass2.\"\"\"\n",
    "    return eta_from_mass1_mass2(mass1, mass2)**(3./5) * (mass1+mass2)\n",
    "def eta_from_mass1_mass2(mass1, mass2):\n",
    "    \"\"\"Returns the symmetric mass ratio from mass1 and mass2.\"\"\"\n",
    "    return mass1*mass2 / (mass1+mass2)**2.\n",
    "def lambdatilde(lambda1,lambda2,m1,m2):\n",
    "    mtotal = m1+m2\n",
    "    m1fac=m1+12*m2\n",
    "    m2fac=m2+12*m1\n",
    "    return 16./13*(m1fac*m1**(4)*lambda1+m2fac*m2**(4)*lambda2)/mtotal**(5)\n",
    "def lambdatilde_ofq(lambda1,lambda2,q):\n",
    "    total = 1+q\n",
    "    l1fac=1+12*q\n",
    "    l2fac=q+12\n",
    "    return 16./13*(l1fac*lambda1+l2fac*q**(4)*lambda2)/total**(5)"
   ]
  },
  {
   "cell_type": "code",
   "execution_count": 6,
   "metadata": {},
   "outputs": [],
   "source": [
    "highSpinPos['mchirp']  = highSpinPos.apply(lambda row : mchirp_from_mass1_mass2(row['m1_detector_frame_Msun'],row['m2_detector_frame_Msun']), axis = 1)\n",
    "lowSpinPos['mchirp']  = lowSpinPos.apply(lambda row : mchirp_from_mass1_mass2(row['m1_detector_frame_Msun'],row['m2_detector_frame_Msun']), axis = 1)\n",
    "highSpinPos['mchirp_source']  = highSpinPos.apply(lambda row : row['mchirp']/(1+row['z']), axis = 1)\n",
    "lowSpinPos['mchirp_source']  = lowSpinPos.apply(lambda row :row['mchirp']/(1+row['z']), axis = 1)"
   ]
  },
  {
   "cell_type": "code",
   "execution_count": 15,
   "metadata": {},
   "outputs": [
    {
     "name": "stdout",
     "output_type": "stream",
     "text": [
      "Mchirp_source_high = 1.1976401990005652+/-0.0001348063791954039\n",
      "Mchirp_source_low = 1.197555435188453+/-6.950293029245859e-05\n"
     ]
    },
    {
     "data": {
      "text/plain": [
       "Text(0.5, 1.0, 'Mchirp_low')"
      ]
     },
     "execution_count": 15,
     "metadata": {},
     "output_type": "execute_result"
    },
    {
     "data": {
      "image/png": "[encoded data removed]",
      "text/plain": [
       "<Figure size 720x360 with 2 Axes>"
      ]
     },
     "metadata": {
      "needs_background": "light"
     },
     "output_type": "display_data"
    }
   ],
   "source": [
    "import statistics\n",
    "fig, axs = plt.subplots(1, 2,figsize=(10,5))\n",
    "data = highSpinPos['mchirp']\n",
    "print('Mchirp_source_high = ' + str(statistics.mean(data)) + '+/-' + str(statistics.stdev(data)))\n",
    "axs[0].hist(data, bins = 50,density=True)\n",
    "data = lowSpinPos['mchirp']\n",
    "print('Mchirp_source_low = ' + str(statistics.mean(data)) + '+/-' + str(statistics.stdev(data)))\n",
    "axs[1].hist(data, bins = 50,density=True)\n",
    "axs[0].set_title('Mchirp_high')\n",
    "axs[1].set_title('Mchirp_low')"
   ]
  }
 ],
 "metadata": {
  "kernelspec": {
   "display_name": "Python 3.9.12 ('base')",
   "language": "python",
   "name": "python3"
  },
  "language_info": {
   "codemirror_mode": {
    "name": "ipython",
    "version": 3
   },
   "file_extension": ".py",
   "mimetype": "text/x-python",
   "name": "python",
   "nbconvert_exporter": "python",
   "pygments_lexer": "ipython3",
   "version": "3.9.12 (main, Apr  5 2022, 06:56:58) \n[GCC 7.5.0]"
  },
  "orig_nbformat": 4,
  "vscode": {
   "interpreter": {
    "hash": "7a4b1144c5668dc40237198320c3dee25fcd0e42dd35bb836188909b0d88e97d"
   }
  }
 },
 "nbformat": 4,
 "nbformat_minor": 2
}
